{
 "cells": [
  {
   "cell_type": "markdown",
   "id": "fd6c5bff",
   "metadata": {},
   "source": [
    "**Introduction to Lists**\n",
    "\n",
    "Lists are ordered, mutable collections of items.\n",
    "\n",
    "This means all the items present in a list can be changed, and lists can contain items of different data types."
   ]
  },
  {
   "cell_type": "markdown",
   "id": "35db21da",
   "metadata": {},
   "source": [
    "**Creating Lists**\n",
    "\n",
    "To create a list, you can use empty square brackets or add elements directly. For example, you can create a list of names or a mixed list containing different data types."
   ]
  },
  {
   "cell_type": "code",
   "execution_count": 1,
   "id": "4d5fedc1",
   "metadata": {},
   "outputs": [
    {
     "name": "stdout",
     "output_type": "stream",
     "text": [
      "<class 'list'>\n",
      "['Croatia', 'Jack', 'Jacob']\n",
      "[1, 'Hello', 3.14, True]\n"
     ]
    }
   ],
   "source": [
    "list1 = []\n",
    "print(type(list1))  # Output: <class 'list'>\n",
    "names = ['Croatia', 'Jack', 'Jacob']\n",
    "mixed_list = [1, 'Hello', 3.14, True]\n",
    "print(names)\n",
    "print(mixed_list)"
   ]
  },
  {
   "cell_type": "markdown",
   "id": "e8feddaa",
   "metadata": {},
   "source": [
    "**Accessing List Items**\n",
    "\n",
    "List elements can be accessed using indexing. Indexing in Python starts at zero. For example, to access the first element, use index 0. Negative indexing can be used to access elements from the end of the list."
   ]
  },
  {
   "cell_type": "code",
   "execution_count": 2,
   "id": "f9e0f0be",
   "metadata": {},
   "outputs": [
    {
     "name": "stdout",
     "output_type": "stream",
     "text": [
      "apple\n",
      "cherry\n",
      "guava\n"
     ]
    }
   ],
   "source": [
    "fruits = ['apple', 'banana', 'cherry', 'kiwi', 'guava']\n",
    "print(fruits[0])      # Output: apple\n",
    "print(fruits[2])      # Output: cherry\n",
    "print(fruits[-1])     # Output: guava"
   ]
  },
  {
   "cell_type": "markdown",
   "id": "6bdb06e7",
   "metadata": {},
   "source": [
    "**Slicing Lists**\n",
    "\n",
    "Slicing allows you to access a range of elements in a list. The syntax is list[start:end], where start is inclusive and end is exclusive. You can also use step size with double colons."
   ]
  },
  {
   "cell_type": "code",
   "execution_count": 3,
   "id": "53152ded",
   "metadata": {},
   "outputs": [
    {
     "name": "stdout",
     "output_type": "stream",
     "text": [
      "['banana', 'cherry', 'kiwi', 'guava']\n",
      "['banana', 'cherry']\n",
      "['guava']\n"
     ]
    }
   ],
   "source": [
    "print(fruits[1:])      # Output: ['banana', 'cherry', 'kiwi', 'guava']\n",
    "print(fruits[1:3])    # Output: ['banana', 'cherry']\n",
    "print(fruits[-1:])    # Output: ['guava']"
   ]
  },
  {
   "cell_type": "markdown",
   "id": "90f8bd07",
   "metadata": {},
   "source": [
    "**Modifying List Elements**\n",
    "\n",
    "You can modify elements in a list by assigning a new value to a specific index. If you assign a string to a slice, it will replace the elements character by character unless you provide a list."
   ]
  },
  {
   "cell_type": "code",
   "execution_count": 7,
   "id": "f69248e4",
   "metadata": {},
   "outputs": [
    {
     "name": "stdout",
     "output_type": "stream",
     "text": [
      "['apple', 'watermelon', 'cherry', 'kiwi', 'guava']\n",
      "['apple', 'watermelon', 'cherry', 'kiwi', 'guava']\n",
      "['apple', 'watermelon', 'cherry', 'kiwi', 'Straberry']\n"
     ]
    }
   ],
   "source": [
    "print (fruits)\n",
    "fruits[1] = 'watermelon'\n",
    "print(fruits)\n",
    "fruits[4]=\"Straberry\"\n",
    "print(fruits)"
   ]
  },
  {
   "cell_type": "markdown",
   "id": "3be9ef8a",
   "metadata": {},
   "source": [
    "**List Methods**\n",
    "\n",
    "Python provides several built-in methods to manipulate lists, such as append, insert, remove, pop, index, count, sort, reverse, and clear."
   ]
  },
  {
   "cell_type": "code",
   "execution_count": 9,
   "id": "b57092de",
   "metadata": {},
   "outputs": [
    {
     "name": "stdout",
     "output_type": "stream",
     "text": [
      "['apple', 'banana', 'cherry', 'kiwi', 'guava', 'orange']\n",
      "['apple', 'banana', 'banana', 'cherry', 'kiwi', 'guava', 'orange']\n",
      "['apple', 'banana', 'cherry', 'kiwi', 'guava', 'orange']\n",
      "orange\n",
      "['apple', 'banana', 'cherry', 'kiwi', 'guava']\n",
      "2\n",
      "2\n",
      "['apple', 'banana', 'banana', 'cherry', 'guava', 'kiwi']\n",
      "['kiwi', 'guava', 'cherry', 'banana', 'banana', 'apple']\n",
      "[]\n"
     ]
    }
   ],
   "source": [
    "fruits = ['apple', 'banana', 'cherry', 'kiwi', 'guava']\n",
    "fruits.append('orange')\n",
    "print(fruits)  # Adds 'orange' to the end\n",
    "fruits.insert(1, 'banana')\n",
    "print(fruits)  # Inserts 'banana' at index 1\n",
    "fruits.remove('banana')\n",
    "print(fruits)  # Removes the first occurrence of 'banana'\n",
    "popped_fruit = fruits.pop()\n",
    "print(popped_fruit)  # Removes and returns the last item\n",
    "print(fruits)\n",
    "index = fruits.index('cherry')\n",
    "print(index)  # Gets the index of 'cherry'\n",
    "fruits.append('banana')\n",
    "count = fruits.count('banana')\n",
    "print(count)  # Counts occurrences of 'banana'\n",
    "fruits.sort()\n",
    "print(fruits)  # Sorts the list in ascending order\n",
    "fruits.reverse()\n",
    "print(fruits)  # Reverses the list\n",
    "fruits.clear()\n",
    "print(fruits)  # Removes all items from the list"
   ]
  },
  {
   "cell_type": "markdown",
   "id": "89908373",
   "metadata": {},
   "source": [
    "**Slicing with Step Size**\n",
    "\n",
    "You can use slicing with a step size to access elements at regular intervals. The syntax is list[start:end:step]."
   ]
  },
  {
   "cell_type": "code",
   "execution_count": 11,
   "id": "fa7de36b",
   "metadata": {},
   "outputs": [
    {
     "name": "stdout",
     "output_type": "stream",
     "text": [
      "[3, 4, 5]\n",
      "[6, 7, 8, 9, 10]\n",
      "[1, 2, 3, 4, 5]\n",
      "[1, 3, 5, 7, 9]\n",
      "[10, 9, 8, 7, 6, 5, 4, 3, 2, 1]\n"
     ]
    }
   ],
   "source": [
    "numbers = [1,2,3,4,5,6,7,8,9,10]\n",
    "print(numbers[2:5])         # Output: [3, 4, 5]\n",
    "print(numbers[5:])          # Output: [6, 7, 8, 9, 10]\n",
    "print(numbers[:5]) \n",
    "print(numbers[::2])         # Output: [1, 3, 5, 7, 9]\n",
    "print(numbers[::-1])        # Output: [10, 9, 8, 7, 6, 5, 4, 3, 2, 1]"
   ]
  },
  {
   "cell_type": "markdown",
   "id": "72e54fc2",
   "metadata": {},
   "source": [
    "**Iterating Over Lists**\n",
    "\n",
    "You can iterate over lists using a for loop. To access both the index and the value, use the enumerate function."
   ]
  },
  {
   "cell_type": "code",
   "execution_count": null,
   "id": "f4811171",
   "metadata": {},
   "outputs": [],
   "source": [
    "for i in numbers:\n",
    "    print(i)\n",
    "for index, number in enumerate(numbers):\n",
    "    print(index, number)"
   ]
  },
  {
   "cell_type": "markdown",
   "id": "1646a9d6",
   "metadata": {},
   "source": [
    "**List Comprehension**\n",
    "\n",
    "*List comprehension provides a concise way to create lists. The basic syntax is:\n",
    "\n",
    "[expression for item in iterable]\n",
    "\n",
    "*You can also add a condition:\n",
    "\n",
    "[expression for item in iterable if condition]"
   ]
  },
  {
   "cell_type": "code",
   "execution_count": null,
   "id": "22e52026",
   "metadata": {},
   "outputs": [],
   "source": [
    "# Square numbers using list comprehension\n",
    "squares = [x**2 for x in range(10)]\n",
    "print(squares)  # Output: [0, 1, 4, 9, 16, 25, 36, 49, 64, 81]"
   ]
  },
  {
   "cell_type": "markdown",
   "id": "2f091f0f",
   "metadata": {},
   "source": [
    "##### List Comprehension with Condition\n",
    "\n",
    "You can use a condition in list comprehension to filter elements."
   ]
  },
  {
   "cell_type": "code",
   "execution_count": 13,
   "id": "bd5130de",
   "metadata": {},
   "outputs": [
    {
     "name": "stdout",
     "output_type": "stream",
     "text": [
      "[0, 2, 4, 6, 8]\n"
     ]
    }
   ],
   "source": [
    "# Even numbers using list comprehension\n",
    "even_numbers = [num for num in range(10) if num % 2 == 0]\n",
    "print(even_numbers)  # Output: [0, 2, 4, 6, 8]"
   ]
  },
  {
   "cell_type": "markdown",
   "id": "8065219d",
   "metadata": {},
   "source": [
    "##### Nested List Comprehension\n",
    "Nested list comprehensions allow you to iterate over multiple iterables. The syntax is:\n",
    "\n",
    "[expression for item1 in iterable1 for item2 in iterable2]"
   ]
  },
  {
   "cell_type": "code",
   "execution_count": 14,
   "id": "9fddd9c0",
   "metadata": {},
   "outputs": [
    {
     "name": "stdout",
     "output_type": "stream",
     "text": [
      "[(1, 'a'), (1, 'b'), (1, 'c'), (1, 'd'), (2, 'a'), (2, 'b'), (2, 'c'), (2, 'd'), (3, 'a'), (3, 'b'), (3, 'c'), (3, 'd'), (4, 'a'), (4, 'b'), (4, 'c'), (4, 'd')]\n"
     ]
    }
   ],
   "source": [
    "list1 = [1, 2, 3, 4]\n",
    "list2 = ['a', 'b', 'c', 'd']\n",
    "pairs = [(i, j) for i in list1 for j in list2]\n",
    "print(pairs)"
   ]
  }
 ],
 "metadata": {
  "kernelspec": {
   "display_name": "Python 3",
   "language": "python",
   "name": "python3"
  },
  "language_info": {
   "codemirror_mode": {
    "name": "ipython",
    "version": 3
   },
   "file_extension": ".py",
   "mimetype": "text/x-python",
   "name": "python",
   "nbconvert_exporter": "python",
   "pygments_lexer": "ipython3",
   "version": "3.12.0"
  }
 },
 "nbformat": 4,
 "nbformat_minor": 5
}
