{
 "cells": [
  {
   "cell_type": "markdown",
   "id": "a5ebcb7e",
   "metadata": {},
   "source": [
    "##### Managing a To-Do List\n"
   ]
  },
  {
   "cell_type": "code",
   "execution_count": 4,
   "id": "39f10569",
   "metadata": {},
   "outputs": [
    {
     "name": "stdout",
     "output_type": "stream",
     "text": [
      "['buy groceries', 'clean the house', 'pay bills']\n",
      "Do not forget to pay utility bills\n",
      "Rest task to do\n",
      "- buy groceries\n",
      "- pay bills\n",
      "- Meeting\n",
      "- Cooking\n"
     ]
    }
   ],
   "source": [
    "to_do_list = [\"buy groceries\", \"clean the house\", \"pay bills\"]\n",
    "\n",
    "\n",
    "print (to_do_list)\n",
    "##adding to task\n",
    "to_do_list.append(\"Meeting\")\n",
    "to_do_list.append(\"Cooking\")\n",
    "\n",
    "## Remove a complete task\n",
    "\n",
    "to_do_list.remove(\"clean the house\")\n",
    "\n",
    "## Cheking if a task is in the list\n",
    "if \"pay bills\" in to_do_list :\n",
    "    print(\"Do not forget to pay utility bills\")\n",
    "\n",
    "print (\"Rest task to do\")\n",
    "\n",
    "for task in to_do_list :\n",
    "    print(f\"- {task}\")\n"
   ]
  },
  {
   "cell_type": "markdown",
   "id": "000ccb85",
   "metadata": {},
   "source": [
    "##### Organizing Student Grades"
   ]
  },
  {
   "cell_type": "code",
   "execution_count": 5,
   "id": "33f3d74f",
   "metadata": {},
   "outputs": [
    {
     "name": "stdout",
     "output_type": "stream",
     "text": [
      "Average grade: 88.0\n",
      "Highest grade: 95\n",
      "Lowest grade: 78\n"
     ]
    }
   ],
   "source": [
    "grades = [85, 92, 78, 90, 88]\n",
    "grades.append(95)\n",
    "average_grade = sum(grades) / len(grades)\n",
    "highest_grade = max(grades)\n",
    "lowest_grade = min(grades)\n",
    "print(f\"Average grade: {average_grade}\")\n",
    "print(f\"Highest grade: {highest_grade}\")\n",
    "print(f\"Lowest grade: {lowest_grade}\")"
   ]
  },
  {
   "cell_type": "markdown",
   "id": "c31f6296",
   "metadata": {},
   "source": [
    "##### Managing an Inventory"
   ]
  },
  {
   "cell_type": "code",
   "execution_count": 6,
   "id": "c89887c3",
   "metadata": {},
   "outputs": [
    {
     "name": "stdout",
     "output_type": "stream",
     "text": [
      "oranges are in stock.\n",
      "Inventory list:\n",
      "- apples\n",
      "- oranges\n",
      "- grapes\n",
      "- strawberries\n"
     ]
    }
   ],
   "source": [
    "inventory = [\"apples\", \"bananas\", \"oranges\", \"grapes\"]\n",
    "inventory.append(\"strawberries\")\n",
    "inventory.remove(\"bananas\")\n",
    "item = \"oranges\"\n",
    "if item in inventory:\n",
    "    print(f\"{item} are in stock.\")\n",
    "else:\n",
    "    print(f\"{item} are out of stock.\")\n",
    "print(\"Inventory list:\")\n",
    "for fruit in inventory:\n",
    "    print(f\"- {fruit}\")"
   ]
  },
  {
   "cell_type": "markdown",
   "id": "9d02c311",
   "metadata": {},
   "source": [
    "##### Collecting and Analyzing User Feedback"
   ]
  },
  {
   "cell_type": "code",
   "execution_count": 7,
   "id": "7d975725",
   "metadata": {},
   "outputs": [
    {
     "name": "stdout",
     "output_type": "stream",
     "text": [
      "Positive feedback count: 2\n",
      "User feedback comments:\n",
      "- Great service.\n",
      "- Very satisfied.\n",
      "- Could be better.\n",
      "- Excellent experience.\n",
      "- Not happy with the service.\n"
     ]
    }
   ],
   "source": [
    "feedbacks = [\n",
    "    \"Great service.\",\n",
    "    \"Very satisfied.\",\n",
    "    \"Could be better.\",\n",
    "    \"Excellent experience.\",\n",
    "    \"Not happy with the service.\"\n",
    "]\n",
    "positive_feedback_count = 0\n",
    "for comment in feedbacks:\n",
    "    if \"great\" in comment.lower() or \"excellent\" in comment.lower():\n",
    "        positive_feedback_count += 1\n",
    "print(f\"Positive feedback count: {positive_feedback_count}\")\n",
    "print(\"User feedback comments:\")\n",
    "for comment in feedbacks:\n",
    "    print(f\"- {comment}\")"
   ]
  }
 ],
 "metadata": {
  "kernelspec": {
   "display_name": "Python 3",
   "language": "python",
   "name": "python3"
  },
  "language_info": {
   "codemirror_mode": {
    "name": "ipython",
    "version": 3
   },
   "file_extension": ".py",
   "mimetype": "text/x-python",
   "name": "python",
   "nbconvert_exporter": "python",
   "pygments_lexer": "ipython3",
   "version": "3.12.0"
  }
 },
 "nbformat": 4,
 "nbformat_minor": 5
}
