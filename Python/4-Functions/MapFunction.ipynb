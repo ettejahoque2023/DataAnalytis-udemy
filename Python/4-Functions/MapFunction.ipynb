{
 "cells": [
  {
   "cell_type": "markdown",
   "id": "097c5ee3",
   "metadata": {},
   "source": [
    "##### Map Functions in Python\n",
    "**Introduction to the Map Function**\n",
    "\n",
    "The map function in Python applies a given function to all the items in an input list or any other iterable and returns a map object, which is an iterator. This is particularly useful for transforming data comprehensively."
   ]
  },
  {
   "cell_type": "code",
   "execution_count": 8,
   "id": "38a2c4f9",
   "metadata": {},
   "outputs": [
    {
     "name": "stdout",
     "output_type": "stream",
     "text": [
      "[1, 4, 9, 16, 25]\n"
     ]
    }
   ],
   "source": [
    "def square(x):\n",
    "    return x * x\n",
    "numbers=[1,2,3,4,5]\n",
    "mapped_result = map(square, numbers)\n",
    "squared_list = list(mapped_result)\n",
    "print(squared_list)  # Output: [1, 4, 9, 16, 25, 36, 49, 64]\n"
   ]
  },
  {
   "cell_type": "markdown",
   "id": "853f5acc",
   "metadata": {},
   "source": [
    "##### Lambda function with map "
   ]
  },
  {
   "cell_type": "code",
   "execution_count": null,
   "id": "a52a0427",
   "metadata": {},
   "outputs": [
    {
     "name": "stdout",
     "output_type": "stream",
     "text": [
      "[1, 4, 9, 16, 25]\n"
     ]
    }
   ],
   "source": [
    "squared_list_lambda = list(map(lambda x: x * x, numbers))\n",
    "print(squared_list_lambda)  # Output: [1, 4, 9, 16, 25, 36, 49, 64]"
   ]
  },
  {
   "cell_type": "markdown",
   "id": "f562e9ee",
   "metadata": {},
   "source": [
    "##### Mapping Multiple Iterables"
   ]
  },
  {
   "cell_type": "code",
   "execution_count": 7,
   "id": "de112ed2",
   "metadata": {},
   "outputs": [
    {
     "name": "stdout",
     "output_type": "stream",
     "text": [
      "[5, 7, 9]\n"
     ]
    }
   ],
   "source": [
    "numbers_one = [1, 2, 3]\n",
    "numbers_two = [4, 5, 6]\n",
    "added_numbers = list(map(lambda x, y: x + y, numbers_one, numbers_two))\n",
    "print(added_numbers)  # Output: [5, 7, 9]"
   ]
  },
  {
   "cell_type": "markdown",
   "id": "94f641a3",
   "metadata": {},
   "source": [
    "##### Using Built-in Functions with Map"
   ]
  },
  {
   "cell_type": "code",
   "execution_count": 9,
   "id": "6c504cd5",
   "metadata": {},
   "outputs": [
    {
     "name": "stdout",
     "output_type": "stream",
     "text": [
      "[1, 2, 3, 4]\n"
     ]
    }
   ],
   "source": [
    "string_numbers = ['1', '2', '3', '4']\n",
    "int_numbers = list(map(int, string_numbers))\n",
    "print(int_numbers)  # Output: [1, 2, 3, 4]"
   ]
  },
  {
   "cell_type": "markdown",
   "id": "b8b392c3",
   "metadata": {},
   "source": [
    "##### Applying String Methods with Map"
   ]
  },
  {
   "cell_type": "code",
   "execution_count": 10,
   "id": "227d6b68",
   "metadata": {},
   "outputs": [
    {
     "name": "stdout",
     "output_type": "stream",
     "text": [
      "['APPLE', 'BANANA', 'CHERRY']\n"
     ]
    }
   ],
   "source": [
    "words = ['apple', 'banana', 'cherry']\n",
    "upper_words = list(map(str.upper, words))\n",
    "print(upper_words)  # Output: ['APPLE', 'BANANA', 'CHERRY']"
   ]
  },
  {
   "cell_type": "markdown",
   "id": "6ffd6a80",
   "metadata": {},
   "source": [
    "##### Using Map with a List of Dictionaries"
   ]
  },
  {
   "cell_type": "code",
   "execution_count": 12,
   "id": "242175ee",
   "metadata": {},
   "outputs": [
    {
     "name": "stdout",
     "output_type": "stream",
     "text": [
      "['Krish', 'Jack']\n"
     ]
    }
   ],
   "source": [
    "def get_name(person):\n",
    "    return person['name']\n",
    "people = [\n",
    "    {'name': 'Krish', 'age': 32},\n",
    "    {'name': 'Jack', 'age': 33}\n",
    "]\n",
    "names = list(map(get_name, people))\n",
    "print(names)  # Output: ['Krish', 'Jack']"
   ]
  }
 ],
 "metadata": {
  "kernelspec": {
   "display_name": "Python 3",
   "language": "python",
   "name": "python3"
  },
  "language_info": {
   "codemirror_mode": {
    "name": "ipython",
    "version": 3
   },
   "file_extension": ".py",
   "mimetype": "text/x-python",
   "name": "python",
   "nbconvert_exporter": "python",
   "pygments_lexer": "ipython3",
   "version": "3.12.0"
  }
 },
 "nbformat": 4,
 "nbformat_minor": 5
}
