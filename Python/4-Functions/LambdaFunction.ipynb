{
 "cells": [
  {
   "cell_type": "markdown",
   "id": "c3974110",
   "metadata": {},
   "source": [
    "##### Lambda Functions in Python\n",
    "Lambda functions are small, anonymous functions defined using the lambda keyword. An anonymous function is a function without a name. Lambda functions can have any number of arguments but only one expression. They are commonly used for short operations or as arguments to higher-order functions."
   ]
  },
  {
   "cell_type": "code",
   "execution_count": 2,
   "id": "2b2889aa",
   "metadata": {},
   "outputs": [
    {
     "name": "stdout",
     "output_type": "stream",
     "text": [
      "3\n"
     ]
    }
   ],
   "source": [
    "addition = lambda a, b: a + b\n",
    "print(addition(2,1))"
   ]
  },
  {
   "cell_type": "markdown",
   "id": "c8489b09",
   "metadata": {},
   "source": [
    "##### Even number\n"
   ]
  },
  {
   "cell_type": "code",
   "execution_count": 4,
   "id": "97f7f6ad",
   "metadata": {},
   "outputs": [
    {
     "name": "stdout",
     "output_type": "stream",
     "text": [
      "True\n",
      "False\n"
     ]
    }
   ],
   "source": [
    "evenOrNot = lambda num : num %2==0\n",
    "print(evenOrNot(12))\n",
    "print(evenOrNot(121))"
   ]
  },
  {
   "cell_type": "code",
   "execution_count": null,
   "id": "0504ae62",
   "metadata": {},
   "outputs": [],
   "source": []
  }
 ],
 "metadata": {
  "kernelspec": {
   "display_name": "Python 3",
   "language": "python",
   "name": "python3"
  },
  "language_info": {
   "codemirror_mode": {
    "name": "ipython",
    "version": 3
   },
   "file_extension": ".py",
   "mimetype": "text/x-python",
   "name": "python",
   "nbconvert_exporter": "python",
   "pygments_lexer": "ipython3",
   "version": "3.12.0"
  }
 },
 "nbformat": 4,
 "nbformat_minor": 5
}
