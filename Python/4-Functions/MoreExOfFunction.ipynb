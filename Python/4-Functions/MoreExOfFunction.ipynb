{
 "cells": [
  {
   "cell_type": "markdown",
   "id": "428d4f5d",
   "metadata": {},
   "source": [
    "##### Example1 : temperature comvertion\n"
   ]
  },
  {
   "cell_type": "code",
   "execution_count": 1,
   "id": "31dc8155",
   "metadata": {},
   "outputs": [
    {
     "name": "stdout",
     "output_type": "stream",
     "text": [
      "77.0\n",
      "25.0\n"
     ]
    }
   ],
   "source": [
    "def convert_temperature(temperature, unit):\n",
    "    \"\"\"This function converts temperature between Celsius and Fahrenheit.\"\"\"\n",
    "    if unit == 'C':\n",
    "        return temperature * (9 / 5) + 32\n",
    "    elif unit == 'F':\n",
    "        return (temperature - 32) * (5 / 9)\n",
    "    else:\n",
    "        return None\n",
    "print(convert_temperature(25, 'C'))  # Output: 77.0\n",
    "print(convert_temperature(77, 'F'))  # Output: 25.0"
   ]
  },
  {
   "cell_type": "markdown",
   "id": "030bb5db",
   "metadata": {},
   "source": [
    "##### Password Strength Checker"
   ]
  },
  {
   "cell_type": "code",
   "execution_count": 3,
   "id": "7076fa24",
   "metadata": {},
   "outputs": [
    {
     "name": "stdout",
     "output_type": "stream",
     "text": [
      "False\n",
      "True\n"
     ]
    }
   ],
   "source": [
    "def strong_password(password):\n",
    "    \"\"\"This function checks if the password is strong or not.\"\"\"\n",
    "    if len(password) < 8:\n",
    "        return False\n",
    "    if not any(char.isdigit() for char in password):\n",
    "        return False\n",
    "    if not any(char.islower() for char in password):\n",
    "        return False\n",
    "    if not any(char.isupper() for char in password):\n",
    "        return False\n",
    "    special_characters = \"!@#$%^&*()-+?_=,<>/\"\n",
    "    if not any(char in special_characters for char in password):\n",
    "        return False\n",
    "    return True\n",
    "\n",
    "print(strong_password('AaA'))  # Expected output: False\n",
    "print(strong_password('0NgCapitalPwd!'))  # Expected output: True"
   ]
  },
  {
   "cell_type": "markdown",
   "id": "10467371",
   "metadata": {},
   "source": [
    "##### Calculate Total Cost of Items in a Shopping Cart"
   ]
  },
  {
   "cell_type": "code",
   "execution_count": 4,
   "id": "78b58650",
   "metadata": {},
   "outputs": [
    {
     "name": "stdout",
     "output_type": "stream",
     "text": [
      "5.8999999999999995\n"
     ]
    }
   ],
   "source": [
    "def calculate_total_cost(cart):\n",
    "    total_cost = 0\n",
    "    for item in cart:\n",
    "        total_cost += item['price'] * item['quantity']\n",
    "    return total_cost\n",
    "\n",
    "cart = [\n",
    "    {'name': 'Apple', 'price': 0.5, 'quantity': 4},\n",
    "    {'name': 'Banana', 'price': 0.3, 'quantity': 6},\n",
    "    {'name': 'Orange', 'price': 0.7, 'quantity': 3}\n",
    "]\n",
    "\n",
    "total_cost = calculate_total_cost(cart)\n",
    "print(total_cost)  # Output: 5.889"
   ]
  },
  {
   "cell_type": "markdown",
   "id": "6e9aae64",
   "metadata": {},
   "source": [
    "##### Palindrome Checker"
   ]
  },
  {
   "cell_type": "code",
   "execution_count": 5,
   "id": "699ca8e2",
   "metadata": {},
   "outputs": [
    {
     "name": "stdout",
     "output_type": "stream",
     "text": [
      "True\n",
      "False\n"
     ]
    }
   ],
   "source": [
    "def is_palindrome(s):\n",
    "    s = s.lower().replace(' ', '')\n",
    "    return s == s[::-1]\n",
    "\n",
    "print(is_palindrome('A man a plan a canal Panama'))  # Output: True\n",
    "print(is_palindrome('hello'))  # Output: False"
   ]
  },
  {
   "cell_type": "markdown",
   "id": "c630ae86",
   "metadata": {},
   "source": [
    "##### Factorial Using Recursion"
   ]
  },
  {
   "cell_type": "code",
   "execution_count": 6,
   "id": "5a21b81e",
   "metadata": {},
   "outputs": [
    {
     "name": "stdout",
     "output_type": "stream",
     "text": [
      "120\n",
      "720\n"
     ]
    }
   ],
   "source": [
    "def factorial(n):\n",
    "    if n == 0:\n",
    "        return 1\n",
    "    else:\n",
    "        return n * factorial(n - 1)\n",
    "\n",
    "print(factorial(5))  # Output: 120\n",
    "print(factorial(6))  # Output: 720"
   ]
  },
  {
   "cell_type": "markdown",
   "id": "82641550",
   "metadata": {},
   "source": [
    "##### Reading a File and Counting Word Frequency\n"
   ]
  },
  {
   "cell_type": "code",
   "execution_count": null,
   "id": "4626a858",
   "metadata": {},
   "outputs": [],
   "source": [
    "def count_word_frequency(file_path):\n",
    "    word_count = {}\n",
    "    with open(file_path, 'r') as file:\n",
    "        for line in file:\n",
    "            words = line.split()\n",
    "            for word in words:\n",
    "                word = word.lower().strip(':;/!,.?')\n",
    "                word_count[word] = word_count.get(word, 0) + 1\n",
    "    return word_count\n",
    "file_path = 'sample.txt'\n",
    "word_frequency = count_word_frequency(file_path)\n",
    "print(word_frequency)"
   ]
  }
 ],
 "metadata": {
  "kernelspec": {
   "display_name": "Python 3",
   "language": "python",
   "name": "python3"
  },
  "language_info": {
   "codemirror_mode": {
    "name": "ipython",
    "version": 3
   },
   "file_extension": ".py",
   "mimetype": "text/x-python",
   "name": "python",
   "nbconvert_exporter": "python",
   "pygments_lexer": "ipython3",
   "version": "3.12.0"
  }
 },
 "nbformat": 4,
 "nbformat_minor": 5
}
