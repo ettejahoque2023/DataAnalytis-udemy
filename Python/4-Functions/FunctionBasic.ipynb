{
 "cells": [
  {
   "cell_type": "markdown",
   "id": "51588c21",
   "metadata": {},
   "source": [
    "##### What is a Function?\n",
    "A function is a block of code that performs a specific task. Functions help in organizing code, reusing code, and improving readability. It is not necessary for a function to always return a value, but many functions do."
   ]
  },
  {
   "cell_type": "code",
   "execution_count": 2,
   "id": "98ddbe9e",
   "metadata": {},
   "outputs": [
    {
     "name": "stdout",
     "output_type": "stream",
     "text": [
      "Hey i am function\n"
     ]
    }
   ],
   "source": [
    "def my_func():\n",
    "    print(\"Hey i am function\")\n",
    "\n",
    "my_func()"
   ]
  },
  {
   "cell_type": "markdown",
   "id": "08a55e75",
   "metadata": {},
   "source": [
    "##### Parameters and Multiple Parameters\n",
    "Functions can take parameters. You can also define functions with multiple parameters."
   ]
  },
  {
   "cell_type": "code",
   "execution_count": 3,
   "id": "479fc68c",
   "metadata": {},
   "outputs": [
    {
     "name": "stdout",
     "output_type": "stream",
     "text": [
      "3\n"
     ]
    }
   ],
   "source": [
    "def my_func(a,b):\n",
    "    res = a+b\n",
    "    print (res)\n",
    "my_func(1,2)"
   ]
  },
  {
   "cell_type": "markdown",
   "id": "e5d6c927",
   "metadata": {},
   "source": [
    "##### Default Parameters\n",
    "You can provide default values to parameters in a function. If the argument is not provided during the function call, the default value is used."
   ]
  },
  {
   "cell_type": "code",
   "execution_count": 4,
   "id": "ae6696f3",
   "metadata": {},
   "outputs": [
    {
     "name": "stdout",
     "output_type": "stream",
     "text": [
      "Hello guest. Welcome to the Paradise.\n"
     ]
    }
   ],
   "source": [
    "def greet(name=\"guest\"):\n",
    "    print(f\"Hello {name}. Welcome to the Paradise.\")\n",
    "greet()"
   ]
  },
  {
   "cell_type": "markdown",
   "id": "e9a8814f",
   "metadata": {},
   "source": [
    "##### The Return Statement\n",
    "A function can return a value after execution. It is also possible to return multiple values from a function."
   ]
  },
  {
   "cell_type": "code",
   "execution_count": 5,
   "id": "6ee86950",
   "metadata": {},
   "outputs": [
    {
     "name": "stdout",
     "output_type": "stream",
     "text": [
      "72\n"
     ]
    }
   ],
   "source": [
    "def multyply(a,b):\n",
    "    return a*b\n",
    "op=multyply(9,8)\n",
    "print(op)"
   ]
  },
  {
   "cell_type": "markdown",
   "id": "8e0d7812",
   "metadata": {},
   "source": [
    "##### Variable Length Arguments: Positional and Keyword Arguments\n",
    "\n",
    "Functions can accept a variable number of arguments using positional (*args) and keyword (**kwargs) arguments."
   ]
  },
  {
   "cell_type": "code",
   "execution_count": 6,
   "id": "f4aa3f0f",
   "metadata": {},
   "outputs": [
    {
     "name": "stdout",
     "output_type": "stream",
     "text": [
      "1\n",
      "2\n",
      "3\n",
      "5\n",
      "4\n",
      "Me\n",
      "you\n",
      "7.4\n"
     ]
    }
   ],
   "source": [
    "def print_all(*args):\n",
    "    for i in args:\n",
    "        print(i)\n",
    "\n",
    "print_all(1,2,3,5,4,\"Me\",\"you\",7.4)"
   ]
  },
  {
   "cell_type": "code",
   "execution_count": 7,
   "id": "e75a7adf",
   "metadata": {},
   "outputs": [
    {
     "name": "stdout",
     "output_type": "stream",
     "text": [
      "name: Krish\n",
      "age: 32\n",
      "country: India\n"
     ]
    }
   ],
   "source": [
    "def print_detail(**kwargs):\n",
    "    for key, value in kwargs.items():\n",
    "        print(f\"{key}: {value}\")\n",
    "print_detail(name=\"Krish\", age=32, country=\"India\")"
   ]
  }
 ],
 "metadata": {
  "kernelspec": {
   "display_name": "Python 3",
   "language": "python",
   "name": "python3"
  },
  "language_info": {
   "codemirror_mode": {
    "name": "ipython",
    "version": 3
   },
   "file_extension": ".py",
   "mimetype": "text/x-python",
   "name": "python",
   "nbconvert_exporter": "python",
   "pygments_lexer": "ipython3",
   "version": "3.12.0"
  }
 },
 "nbformat": 4,
 "nbformat_minor": 5
}
