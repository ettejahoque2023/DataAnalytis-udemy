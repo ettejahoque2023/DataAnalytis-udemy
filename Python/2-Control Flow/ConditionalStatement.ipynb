{
 "cells": [
  {
   "cell_type": "markdown",
   "id": "443b60be",
   "metadata": {},
   "source": [
    "The if Statement\n",
    "The if statement evaluates a condition and executes the block of code within it if the condition is true. For example, if we write:"
   ]
  },
  {
   "cell_type": "code",
   "execution_count": 1,
   "id": "e1fbc8bb",
   "metadata": {},
   "outputs": [
    {
     "name": "stdout",
     "output_type": "stream",
     "text": [
      "You are allowed to vote in the elections.\n"
     ]
    }
   ],
   "source": [
    "age = 20\n",
    "if age >= 18:\n",
    "    print(\"You are allowed to vote in the elections.\")"
   ]
  },
  {
   "cell_type": "markdown",
   "id": "6e5f499b",
   "metadata": {},
   "source": [
    "The else Statement\n",
    "The else statement executes a block of code if the condition in the if statement is false. For example:\n",
    "\n",
    "python Code Sam"
   ]
  },
  {
   "cell_type": "code",
   "execution_count": 2,
   "id": "02ba8742",
   "metadata": {},
   "outputs": [
    {
     "name": "stdout",
     "output_type": "stream",
     "text": [
      "You are a minor.\n"
     ]
    }
   ],
   "source": [
    "age = 16\n",
    "if age >= 18:\n",
    "    print(\"You are eligible for voting.\")\n",
    "else:\n",
    "    print(\"You are a minor.\")"
   ]
  },
  {
   "cell_type": "markdown",
   "id": "c59eb7f1",
   "metadata": {},
   "source": [
    "The elif Statement\n",
    "The elif statement, short for 'else if', allows you to check multiple conditions. It is used to check for additional conditions if the previous if or elif conditions are false. For example:"
   ]
  },
  {
   "cell_type": "code",
   "execution_count": 3,
   "id": "bf6d50f5",
   "metadata": {},
   "outputs": [
    {
     "name": "stdout",
     "output_type": "stream",
     "text": [
      "You are an adult.\n"
     ]
    }
   ],
   "source": [
    "age = 20\n",
    "if age < 13:\n",
    "    print(\"You are a child.\")\n",
    "elif age < 18:\n",
    "    print(\"You are a teenager.\")\n",
    "else:\n",
    "    print(\"You are an adult.\")"
   ]
  },
  {
   "cell_type": "markdown",
   "id": "5fbbfaa9",
   "metadata": {},
   "source": [
    "Nested Conditional Statements\n",
    "\n",
    "Nested conditional statements allow you to place one or more if, elif, or else statements inside another if, elif, or else statement to create more complex decision structures. For example, to determine if a number is positive, even, or odd:"
   ]
  },
  {
   "cell_type": "code",
   "execution_count": 4,
   "id": "ddd5947d",
   "metadata": {},
   "outputs": [
    {
     "name": "stdout",
     "output_type": "stream",
     "text": [
      "The number is positive.\n",
      "The number is even.\n"
     ]
    }
   ],
   "source": [
    "number = int(input(\"Enter the number: \"))\n",
    "if number > 0:\n",
    "    print(\"The number is positive.\")\n",
    "    if number % 2 == 0:\n",
    "        print(\"The number is even.\")\n",
    "    else:\n",
    "        print(\"The number is odd.\")\n",
    "else:\n",
    "    print(\"The number is zero or negative.\")"
   ]
  }
 ],
 "metadata": {
  "kernelspec": {
   "display_name": "Python 3",
   "language": "python",
   "name": "python3"
  },
  "language_info": {
   "codemirror_mode": {
    "name": "ipython",
    "version": 3
   },
   "file_extension": ".py",
   "mimetype": "text/x-python",
   "name": "python",
   "nbconvert_exporter": "python",
   "pygments_lexer": "ipython3",
   "version": "3.12.0"
  }
 },
 "nbformat": 4,
 "nbformat_minor": 5
}
