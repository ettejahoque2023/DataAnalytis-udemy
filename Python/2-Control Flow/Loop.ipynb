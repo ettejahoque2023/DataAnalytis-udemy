{
 "cells": [
  {
   "cell_type": "markdown",
   "id": "9ef131bc",
   "metadata": {},
   "source": [
    "**For Loops and the range Function**"
   ]
  },
  {
   "cell_type": "markdown",
   "id": "1f286eb2",
   "metadata": {},
   "source": [
    "A for loop is used to iterate over a sequence of numbers. For example, to create a sequence of numbers, we can use the range function. If we want five elements, range(5) generates numbers from 0 to 4. To display these numbers, we can iterate through them using a for loop."
   ]
  },
  {
   "cell_type": "code",
   "execution_count": null,
   "id": "e44eccd7",
   "metadata": {},
   "outputs": [],
   "source": [
    "for i in range (5):\n",
    "    print(i)"
   ]
  },
  {
   "cell_type": "markdown",
   "id": "796fdcdf",
   "metadata": {},
   "source": [
    "Using range with Start and Stop Parameters.\n",
    "\n",
    "You can specify a start and stop value in range. For example, range(1, 6) generates numbers from 2 to 9."
   ]
  },
  {
   "cell_type": "code",
   "execution_count": null,
   "id": "c81c2b19",
   "metadata": {},
   "outputs": [],
   "source": [
    "for i in range(2,10):\n",
    "    print(i)"
   ]
  },
  {
   "cell_type": "markdown",
   "id": "9a477ce4",
   "metadata": {},
   "source": [
    "**Step Parameter in range**\n",
    "\n",
    "The range function also accepts a step parameter. For example, range(1, 10, 2) will increment by 2 each time."
   ]
  },
  {
   "cell_type": "code",
   "execution_count": null,
   "id": "5455ee1c",
   "metadata": {},
   "outputs": [],
   "source": [
    "for i in range(1, 10, 2):\n",
    "    print(i)\n",
    "\n",
    "print(\"You can also use a negative step to decrement.\")\n",
    "\n",
    "for i in range(10, 0, -1):\n",
    "    print(i)"
   ]
  },
  {
   "cell_type": "markdown",
   "id": "40b91430",
   "metadata": {},
   "source": [
    "**Iterating Over Strings**\n",
    "\n",
    "Strings in Python are collections of characters. You can traverse each character in a string using a for loop."
   ]
  },
  {
   "cell_type": "code",
   "execution_count": 6,
   "id": "fd822eb9",
   "metadata": {},
   "outputs": [
    {
     "name": "stdout",
     "output_type": "stream",
     "text": [
      "N\n",
      "i\n",
      "t\n",
      "u\n"
     ]
    }
   ],
   "source": [
    "str_value = \"Nitu\"\n",
    "for i in str_value:\n",
    "    print(i)"
   ]
  },
  {
   "cell_type": "markdown",
   "id": "264e76da",
   "metadata": {},
   "source": [
    "**While Loops**\n",
    "\n",
    "A while loop continues to execute as long as the condition is true. For example, to print numbers from 0 to 4:"
   ]
  },
  {
   "cell_type": "code",
   "execution_count": null,
   "id": "a9c1b3ed",
   "metadata": {},
   "outputs": [],
   "source": [
    "count = 0\n",
    "while count <= 5:\n",
    "    print(count)\n",
    "    count += 1"
   ]
  },
  {
   "cell_type": "markdown",
   "id": "470d7458",
   "metadata": {},
   "source": [
    "********************** **Loop Control Statements** ************************\n",
    "\n",
    "**Break Statement**\n",
    "\n",
    "The break statement exits the loop prematurely when a certain condition is met."
   ]
  },
  {
   "cell_type": "code",
   "execution_count": null,
   "id": "3cb80314",
   "metadata": {},
   "outputs": [],
   "source": [
    "for i in range(10):\n",
    "    if i == 5:\n",
    "        break\n",
    "    print(i)"
   ]
  },
  {
   "cell_type": "markdown",
   "id": "2b2468db",
   "metadata": {},
   "source": [
    "**Continue Statement**\n",
    "\n",
    "The continue statement skips the current iteration and continues with the next."
   ]
  },
  {
   "cell_type": "code",
   "execution_count": null,
   "id": "5840c59e",
   "metadata": {},
   "outputs": [],
   "source": [
    "for i in range(10):\n",
    "    if i % 2 == 0:\n",
    "        continue\n",
    "    print(i)"
   ]
  },
  {
   "cell_type": "markdown",
   "id": "a5e436e5",
   "metadata": {},
   "source": [
    "**Pass Statement**\n",
    "\n",
    "The pass statement is a null operation; it does nothing. It is used as a placeholder."
   ]
  },
  {
   "cell_type": "code",
   "execution_count": null,
   "id": "c14849a8",
   "metadata": {},
   "outputs": [],
   "source": [
    "for i in range(5):\n",
    "    if i == 3:\n",
    "        pass\n",
    "    print(f\"The number is {i}\")"
   ]
  },
  {
   "cell_type": "markdown",
   "id": "bdf886ee",
   "metadata": {},
   "source": [
    "**Nested Loops**\n",
    "\n",
    "A nested loop is a loop inside another loop. For example:"
   ]
  },
  {
   "cell_type": "code",
   "execution_count": null,
   "id": "18834038",
   "metadata": {},
   "outputs": [],
   "source": [
    "for i in range(3):\n",
    "    for j in range(2):\n",
    "        print(f\"i = {i}, j = {j}\")"
   ]
  },
  {
   "cell_type": "markdown",
   "id": "3595da91",
   "metadata": {},
   "source": [
    "**Sum of First n Natural Numbers Using ForLoop**\n"
   ]
  },
  {
   "cell_type": "code",
   "execution_count": 15,
   "id": "aed98b9c",
   "metadata": {},
   "outputs": [
    {
     "name": "stdout",
     "output_type": "stream",
     "text": [
      "55\n"
     ]
    }
   ],
   "source": [
    "n =10\n",
    "sum =0\n",
    "for i in range(1,11):\n",
    "    sum+=i\n",
    "print (sum)\n"
   ]
  },
  {
   "cell_type": "markdown",
   "id": "039d14aa",
   "metadata": {},
   "source": [
    "**Sum of First n Natural Numbers Using While Loop**"
   ]
  },
  {
   "cell_type": "code",
   "execution_count": 18,
   "id": "58942c3e",
   "metadata": {},
   "outputs": [
    {
     "name": "stdout",
     "output_type": "stream",
     "text": [
      "55\n"
     ]
    }
   ],
   "source": [
    "n =1\n",
    "sum =0\n",
    "while n<=10:\n",
    "    sum+=n\n",
    "    n+=1\n",
    "print (sum)"
   ]
  },
  {
   "cell_type": "markdown",
   "id": "b009c6f6",
   "metadata": {},
   "source": [
    "**Display Prime Numbers Between 1 and 100**"
   ]
  },
  {
   "cell_type": "code",
   "execution_count": null,
   "id": "9a76c5f5",
   "metadata": {},
   "outputs": [],
   "source": [
    "for num in range(1, 101):\n",
    "    if num > 1:\n",
    "        for i in range(2, num):\n",
    "            if num % i == 0:\n",
    "                break\n",
    "        else:\n",
    "            print(num)"
   ]
  }
 ],
 "metadata": {
  "kernelspec": {
   "display_name": "Python 3",
   "language": "python",
   "name": "python3"
  },
  "language_info": {
   "codemirror_mode": {
    "name": "ipython",
    "version": 3
   },
   "file_extension": ".py",
   "mimetype": "text/x-python",
   "name": "python",
   "nbconvert_exporter": "python",
   "pygments_lexer": "ipython3",
   "version": "3.12.0"
  }
 },
 "nbformat": 4,
 "nbformat_minor": 5
}
