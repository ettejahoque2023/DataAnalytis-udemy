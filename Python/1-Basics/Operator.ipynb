{
 "cells": [
  {
   "cell_type": "markdown",
   "id": "07e58aaa",
   "metadata": {},
   "source": [
    "Arithmetic Operation"
   ]
  },
  {
   "cell_type": "code",
   "execution_count": 1,
   "id": "34e62e28",
   "metadata": {},
   "outputs": [
    {
     "name": "stdout",
     "output_type": "stream",
     "text": [
      "Addition: 25\n",
      "Subtraction: -5\n",
      "Multiplication: 150\n",
      "Division: 0.6666666666666666\n",
      "Floor Division: 0\n",
      "Modulus: 10\n",
      "Exponentiation: 1000000000000000\n"
     ]
    }
   ],
   "source": [
    "a = 10\n",
    "b = 15\n",
    "addition_result = a + b\n",
    "subtraction_result = a - b\n",
    "multiplication_result = a * b\n",
    "division_result = a / b\n",
    "floor_division_result = a // b\n",
    "modulus_result = a % b\n",
    "exponential_result = a ** b\n",
    "\n",
    "print(\"Addition:\", addition_result)\n",
    "print(\"Subtraction:\", subtraction_result)\n",
    "print(\"Multiplication:\", multiplication_result)\n",
    "print(\"Division:\", division_result)\n",
    "print(\"Floor Division:\", floor_division_result)\n",
    "print(\"Modulus:\", modulus_result)\n",
    "print(\"Exponentiation:\", exponential_result)"
   ]
  },
  {
   "cell_type": "markdown",
   "id": "d6aefb07",
   "metadata": {},
   "source": [
    "Comparison Operators"
   ]
  },
  {
   "cell_type": "code",
   "execution_count": 13,
   "id": "f5047f30",
   "metadata": {},
   "outputs": [
    {
     "name": "stdout",
     "output_type": "stream",
     "text": [
      "The double equal == operator checks if two values are equal.\n",
      " Here, since a and b are both 10, the result is True.\n",
      "True\n",
      "True\n",
      "False\n",
      "\"\n",
      "Not Equal To Operator\n",
      "The not equal operator != returns True if values differ, otherwise False.\n",
      "\n",
      "True\n",
      "\n",
      "Greater Than and Less Than Operators\n",
      "We can compare numeric values using > and < operators.\n",
      "\n",
      "False\n",
      "True\n",
      "Greater Than or Equal To and Less Than or Equal To Operators\n",
      "These operators check if a value is greater than or equal to, or less than or equal to another.\n",
      "True\n",
      "True\n"
     ]
    }
   ],
   "source": [
    "a = 10\n",
    "b = 10\n",
    "\n",
    "print(\"The double equal == operator checks if two values are equal.\\n\" \\\n",
    "\" Here, since a and b are both 10, the result is True.\")\n",
    "result = (a == b)\n",
    "print(result)\n",
    "\n",
    "str1 = \"Krish\"\n",
    "str2 = \"Krish\"\n",
    "print(str1 == str2)\n",
    "\n",
    "str2 = \"krish\"\n",
    "print(str1 == str2)\n",
    "\n",
    "print(\"\"\"\"\n",
    "Not Equal To Operator\n",
    "The not equal operator != returns True if values differ, otherwise False.\n",
    "\"\"\")\n",
    "print(str1 != str2)\n",
    "\n",
    "print(\"\"\"\n",
    "Greater Than and Less Than Operators\n",
    "We can compare numeric values using > and < operators.\n",
    "\"\"\")\n",
    "num1 = 45\n",
    "num2 = 55\n",
    "print(num1 > num2)\n",
    "print(num1 < num2)\n",
    "print(\"\"\"Greater Than or Equal To and Less Than or Equal To Operators\n",
    "These operators check if a value is greater than or equal to, or less than or equal to another.\"\"\")\n",
    "num1 = 45\n",
    "num2 = 45\n",
    "print(num1 >= num2)\n",
    "print(num1 <= num2)"
   ]
  },
  {
   "cell_type": "markdown",
   "id": "5d50cd4c",
   "metadata": {},
   "source": [
    "Logical Operators\n",
    "\n",
    "Logical operators combine boolean expressions. The main logical operators are and, or, and not.\n",
    "\n",
    "python Code Sample\n"
   ]
  },
  {
   "cell_type": "code",
   "execution_count": 21,
   "id": "6331a27a",
   "metadata": {},
   "outputs": [
    {
     "name": "stdout",
     "output_type": "stream",
     "text": [
      "And operation\n",
      "True\n",
      "The and operator returns True only if both operands are True. Here, the result is True.\n",
      "False\n",
      "Now, since y is False, the and operation returns False.\n",
      "Or Operator\n",
      "True\n",
      "Not Operator\n",
      "False\n",
      "True\n"
     ]
    }
   ],
   "source": [
    "print(\"And operation\")\n",
    "x = True\n",
    "y = True\n",
    "result = x and y\n",
    "print(result)\n",
    "print(\"The and operator returns True only if both operands are True. Here, the result is True.\")\n",
    "y = False\n",
    "result = x and y\n",
    "print(result)\n",
    "print(\"Now, since y is False, the and operation returns False.\")\n",
    "\n",
    "print(\"Or Operator\")\n",
    "x = True\n",
    "y = False\n",
    "result = x or y\n",
    "print(result)\n",
    "\n",
    "print(\"Not Operator\")\n",
    "\n",
    "x = True\n",
    "print(not x)\n",
    "\n",
    "x = False\n",
    "print(not x)\n",
    "\n"
   ]
  },
  {
   "cell_type": "code",
   "execution_count": null,
   "id": "1c8e6c02",
   "metadata": {},
   "outputs": [],
   "source": []
  }
 ],
 "metadata": {
  "kernelspec": {
   "display_name": "Python 3",
   "language": "python",
   "name": "python3"
  },
  "language_info": {
   "codemirror_mode": {
    "name": "ipython",
    "version": 3
   },
   "file_extension": ".py",
   "mimetype": "text/x-python",
   "name": "python",
   "nbconvert_exporter": "python",
   "pygments_lexer": "ipython3",
   "version": "3.12.0"
  }
 },
 "nbformat": 4,
 "nbformat_minor": 5
}
