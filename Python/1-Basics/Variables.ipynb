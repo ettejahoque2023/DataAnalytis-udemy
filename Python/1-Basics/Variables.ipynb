{
 "cells": [
  {
   "cell_type": "markdown",
   "id": "8b6a49e0",
   "metadata": {},
   "source": [
    "Introduction to Variables in Python\n",
    "Variables are fundamental elements in programming used to store data that can be referenced and manipulated in a program. In Python, variables are created when you assign a value to them, and they do not need explicit declaration to resolve memory space. The declaration happens automatically when you assign a value to a variable.\n",
    "\n",
    "For example,\n",
    " if you define a = 100, this becomes the variable. Whenever you start a new notebook file, always make sure to select the kernel. If you write a = 100, this means you have created a variable a and assigned the value 100."
   ]
  },
  {
   "cell_type": "markdown",
   "id": "2d1015b8",
   "metadata": {},
   "source": [
    "Declaring and Assigning Variables\n",
    "You can assign different types of values to variables, such as strings, integers, floating point numbers, and booleans."
   ]
  },
  {
   "cell_type": "code",
   "execution_count": 3,
   "id": "d88b73d0",
   "metadata": {},
   "outputs": [
    {
     "name": "stdout",
     "output_type": "stream",
     "text": [
      "age: 32\n",
      "height: 6.1\n",
      "name: Krish\n",
      "is_student: True\n"
     ]
    }
   ],
   "source": [
    "#Declearing And assigning Veriables\n",
    "\n",
    "age = 32\n",
    "height = 6.1\n",
    "name = \"Krish\"\n",
    "is_student = True\n",
    "\n",
    "#Printing the variables\n",
    "print(\"age:\", age)\n",
    "print(\"height:\", height)\n",
    "print(\"name:\", name)\n",
    "print(\"is_student:\", is_student)"
   ]
  },
  {
   "cell_type": "markdown",
   "id": "725b9145",
   "metadata": {},
   "source": [
    "Naming Conventions for Variables\n",
    "Variable names should be descriptive. They must always start with a letter or an underscore. Variable names can contain letters, numbers, and underscores, but must not start with a number. Variable names are case sensitive.\n"
   ]
  },
  {
   "cell_type": "code",
   "execution_count": null,
   "id": "ce507752",
   "metadata": {},
   "outputs": [
    {
     "ename": "SyntaxError",
     "evalue": "invalid decimal literal (1299990091.py, line 6)",
     "output_type": "error",
     "traceback": [
      "  \u001b[36mCell\u001b[39m\u001b[36m \u001b[39m\u001b[32mIn[4]\u001b[39m\u001b[32m, line 6\u001b[39m\n\u001b[31m    \u001b[39m\u001b[31m1age = 30  # Invalid: starts with a number\u001b[39m\n    ^\n\u001b[31mSyntaxError\u001b[39m\u001b[31m:\u001b[39m invalid decimal literal\n"
     ]
    }
   ],
   "source": [
    "#Valid Variable Names\n",
    "first_name = \"Krish\"\n",
    "last_name = \"Nayak\"\n",
    "\n",
    "\"\"\"\n",
    "#Invalid Variable Names\n",
    "1age = 30  # Invalid: starts with a number\n",
    "first-name = \"Krish\"  # Invalid: dash is not allowed\n",
    "@name = \"Krish\"  # Invalid: special character not allowed\n",
    "\"\"\"\n"
   ]
  },
  {
   "cell_type": "markdown",
   "id": "e67dbeca",
   "metadata": {},
   "source": [
    "Understanding Variable Types\n",
    "Python is dynamically typed. This means the type of a variable is determined at runtime. Some of the important data types are int, float, str, and bool."
   ]
  },
  {
   "cell_type": "code",
   "execution_count": 5,
   "id": "55ce7cfa",
   "metadata": {},
   "outputs": [
    {
     "name": "stdout",
     "output_type": "stream",
     "text": [
      "<class 'int'>\n",
      "<class 'str'>\n"
     ]
    }
   ],
   "source": [
    "age = 25  # int\n",
    "height = 6.1  # float\n",
    "name = \"Krish\"  # str\n",
    "is_student = True  # bool\n",
    "\n",
    "#You can check the type of a variable using the type() function.\n",
    "print(type(age))  # Output: <class 'int'>\n",
    "print(type(name))  # Output: <class 'str'>"
   ]
  },
  {
   "cell_type": "markdown",
   "id": "461ac8ff",
   "metadata": {},
   "source": [
    "You can also convert a string containing a number to an integer."
   ]
  },
  {
   "cell_type": "code",
   "execution_count": 1,
   "id": "90f38037",
   "metadata": {},
   "outputs": [
    {
     "name": "stdout",
     "output_type": "stream",
     "text": [
      "<class 'str'>\n",
      "<class 'int'>\n"
     ]
    }
   ],
   "source": [
    "age = \"25\"\n",
    "print(type(age))  # str\n",
    "age_int = int(age)\n",
    "print(type(age_int))  # int\n",
    "\n",
    "#If you try to convert a non-numeric string to an integer, you will get an error.\n",
    "name = \"Krish\"\n",
    "# int(name)  # This will raise a ValueError"
   ]
  },
  {
   "cell_type": "markdown",
   "id": "5d608892",
   "metadata": {},
   "source": [
    "Dynamic Typing in Python\n",
    "Python allows the type of a variable to change as the program executes."
   ]
  },
  {
   "cell_type": "code",
   "execution_count": 7,
   "id": "baa8e96a",
   "metadata": {},
   "outputs": [
    {
     "name": "stdout",
     "output_type": "stream",
     "text": [
      "10 <class 'int'>\n",
      "Hello <class 'str'>\n",
      "3.14 <class 'float'>\n"
     ]
    }
   ],
   "source": [
    "var = 10\n",
    "print(var, type(var))  # 10 <class 'int'>\n",
    "var = \"Hello\"\n",
    "print(var, type(var))  # Hello <class 'str'>\n",
    "var = 3.14\n",
    "print(var, type(var))  # 3.14 <class 'float'>"
   ]
  },
  {
   "cell_type": "markdown",
   "id": "02850fee",
   "metadata": {},
   "source": [
    "User Input in Python\n",
    "The input() function is used to receive user input. By default, the input is always returned as a string."
   ]
  },
  {
   "cell_type": "code",
   "execution_count": 7,
   "id": "0ca2c621",
   "metadata": {},
   "outputs": [
    {
     "name": "stdout",
     "output_type": "stream",
     "text": [
      "Fourty\n",
      "<class 'str'>\n",
      "40\n",
      "<class 'int'>\n"
     ]
    }
   ],
   "source": [
    "age = input(\"What is your age? \")\n",
    "print(age)\n",
    "print(type(age))  # str\n",
    "\n",
    "# To convert the input to integer\n",
    "typed_age = int(input(\"What is your age? \"))\n",
    "print(typed_age)\n",
    "print(type(typed_age))  # int"
   ]
  },
  {
   "cell_type": "markdown",
   "id": "cd957832",
   "metadata": {},
   "source": [
    "Simple Calculator Example\n",
    "Let us create a simple calculator using the concepts discussed.\n"
   ]
  },
  {
   "cell_type": "code",
   "execution_count": 9,
   "id": "39dc553f",
   "metadata": {},
   "outputs": [
    {
     "name": "stdout",
     "output_type": "stream",
     "text": [
      "Sum: 24\n",
      "Difference: 0\n",
      "Product: 144\n",
      "Quotient: 1.0\n"
     ]
    }
   ],
   "source": [
    "num1 = int(input(\"Enter first number: \"))\n",
    "num2 = int(input(\"Enter second number: \"))\n",
    "sum_ = num1 + num2\n",
    "difference = num1 - num2\n",
    "product = num1 * num2\n",
    "quotient = num1 / num2\n",
    "print(\"Sum:\", sum_)\n",
    "print(\"Difference:\", difference)\n",
    "print(\"Product:\", product)\n",
    "print(\"Quotient:\", quotient)"
   ]
  },
  {
   "cell_type": "code",
   "execution_count": null,
   "id": "9af1ee37",
   "metadata": {},
   "outputs": [],
   "source": []
  }
 ],
 "metadata": {
  "kernelspec": {
   "display_name": "Python 3",
   "language": "python",
   "name": "python3"
  },
  "language_info": {
   "codemirror_mode": {
    "name": "ipython",
    "version": 3
   },
   "file_extension": ".py",
   "mimetype": "text/x-python",
   "name": "python",
   "nbconvert_exporter": "python",
   "pygments_lexer": "ipython3",
   "version": "3.12.0"
  }
 },
 "nbformat": 4,
 "nbformat_minor": 5
}
