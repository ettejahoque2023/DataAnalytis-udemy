{
 "cells": [
  {
   "cell_type": "markdown",
   "id": "3577c871",
   "metadata": {},
   "source": [
    "Python Basics: Syntax and Semantics\n",
    "In this lecture, we will continue the discussion on the Python programming language, focusing on syntax and semantics. The session covers single-line and multi-line comments, definitions of syntax and semantics, basic syntax rules, common syntax errors, and practical code examples.\n",
    "\n",
    "Syntax and Semantics in Python\n",
    "Syntax refers to the set of rules that defines the combination of symbols considered to be a correctly structured program in a language. In simpler terms, syntax is about the correct arrangement of words and symbols in code. When coding, syntax errors often occur if, for example, a variable is used without being assigned. This is why correct arrangement is important.\n",
    "\n",
    "Semantics refers to the meaning or interpretation of the symbols, characters, and commands in a language. It is about what the code is supposed to do when it runs. Syntax is about how we arrange the words to write code, while semantics refers to the interpretation—what the code is supposed to do when it runs."
   ]
  },
  {
   "cell_type": "markdown",
   "id": "d14a055d",
   "metadata": {},
   "source": [
    "Case Sensitivity in Python\n",
    "Python is case sensitive. This means that variables with the same name but different cases are treated as different identifiers."
   ]
  },
  {
   "cell_type": "code",
   "execution_count": 4,
   "id": "de348547",
   "metadata": {},
   "outputs": [
    {
     "name": "stdout",
     "output_type": "stream",
     "text": [
      "Hello World\n",
      "etteja\n",
      "Etteja\n"
     ]
    }
   ],
   "source": [
    "print(\"Hello World\")\n",
    "\n",
    "name=\"etteja\"\n",
    "Name= \"Etteja\"\n",
    "print(name)\n",
    "print(Name)"
   ]
  },
  {
   "cell_type": "markdown",
   "id": "9aa8b481",
   "metadata": {},
   "source": [
    "Comments in Python\n",
    "Single-Line Comments\n",
    "Single-line comments in Python are written using the hash symbol (#). For example, to write a comment in a code cell, use # followed by your comment."
   ]
  },
  {
   "cell_type": "markdown",
   "id": "d1b378f9",
   "metadata": {},
   "source": [
    "Single-Line Comments\n",
    "Single-line comments in Python are written using the hash symbol (#). For example, to write a comment in a code cell, use # followed by your comment.\n"
   ]
  },
  {
   "cell_type": "code",
   "execution_count": 6,
   "id": "6d1d66b7",
   "metadata": {},
   "outputs": [],
   "source": [
    "# This is a single line comment"
   ]
  },
  {
   "cell_type": "markdown",
   "id": "c8d0a83f",
   "metadata": {},
   "source": [
    "Multi-Line Comments\n",
    "Multi-line comments are written using triple quotes (''' or \"\"\"). This allows you to write comments that span multiple lines. Note that triple quotes for comments work in .py files but may not work as intended in Jupyter notebooks. Single-line comments work in both .py and .ipynb files."
   ]
  },
  {
   "cell_type": "code",
   "execution_count": 5,
   "id": "13556cfe",
   "metadata": {},
   "outputs": [
    {
     "data": {
      "text/plain": [
       "'\\nThis is a multi-line comment.\\nWelcome to the Python course.\\n'"
      ]
     },
     "execution_count": 5,
     "metadata": {},
     "output_type": "execute_result"
    }
   ],
   "source": [
    "\"\"\"\n",
    "This is a multi-line comment.\n",
    "Welcome to the Python course.\n",
    "\"\"\""
   ]
  },
  {
   "cell_type": "markdown",
   "id": "fc5b83d5",
   "metadata": {},
   "source": [
    "Indentation in Python\n",
    "Python uses indentation to define blocks of code. Consistent use of spaces (commonly four spaces or a tab) is required. Indentation determines the structure and hierarchy of the code, unlike many other programming languages that use braces to delimit code blocks."
   ]
  },
  {
   "cell_type": "code",
   "execution_count": null,
   "id": "4bc203df",
   "metadata": {},
   "outputs": [
    {
     "name": "stdout",
     "output_type": "stream",
     "text": [
      "30\n",
      "32\n",
      "32\n"
     ]
    }
   ],
   "source": [
    "age = 32\n",
    "if age > 30:\n",
    "    print(30)\n",
    "    print(age)\n",
    "print(age)\n",
    "\n",
    "#In this example, the indented block under the if statement is executed only if the condition is true.\n",
    "#The last print(age) is outside the if block and will always execute."
   ]
  },
  {
   "cell_type": "markdown",
   "id": "0c683848",
   "metadata": {},
   "source": [
    "Line Continuation\n",
    "Python allows line continuation using a backslash (\\). This is useful for breaking up long statements across multiple lines.\n",
    "\n",
    "The backslash allows the statement to continue onto the next line."
   ]
  },
  {
   "cell_type": "code",
   "execution_count": 8,
   "id": "b9edf63a",
   "metadata": {},
   "outputs": [
    {
     "name": "stdout",
     "output_type": "stream",
     "text": [
      "55\n"
     ]
    }
   ],
   "source": [
    "total = 1 + 2 + 3 + 4 + 5 + 6 + 7 + \\\n",
    "        8 + 9 + 10\n",
    "print(total)"
   ]
  },
  {
   "cell_type": "markdown",
   "id": "b03819b9",
   "metadata": {},
   "source": [
    "Multiple Statements on a Single Line\n",
    "Python allows multiple statements on a single line using a semicolon (;)."
   ]
  },
  {
   "cell_type": "code",
   "execution_count": 9,
   "id": "6bd6946e",
   "metadata": {},
   "outputs": [
    {
     "name": "stdout",
     "output_type": "stream",
     "text": [
      "15\n"
     ]
    }
   ],
   "source": [
    "x = 5; y = 10; z = x + y\n",
    "print(z)"
   ]
  },
  {
   "cell_type": "markdown",
   "id": "5eead836",
   "metadata": {},
   "source": [
    "Variable Assignment\n",
    "When assigning a variable in Python, the type is inferred at runtime. Unlike other languages, you do not need to declare the type beforehand."
   ]
  },
  {
   "cell_type": "code",
   "execution_count": null,
   "id": "ae70e418",
   "metadata": {},
   "outputs": [
    {
     "name": "stdout",
     "output_type": "stream",
     "text": [
      "<class 'int'>\n",
      "<class 'str'>\n"
     ]
    }
   ],
   "source": [
    "age = 32\n",
    "name = \"Chris\"\n",
    "print(type(age))\n",
    "print(type(name))\n",
    "\n",
    "\"\"\"\n",
    "The output shows that age is of type int and name is of type str.\n",
    "This process is called type inference.\n",
    "Python infers the type of a variable at runtime, allowing dynamic typing.\n",
    "\"\"\""
   ]
  }
 ],
 "metadata": {
  "kernelspec": {
   "display_name": "Python 3",
   "language": "python",
   "name": "python3"
  },
  "language_info": {
   "codemirror_mode": {
    "name": "ipython",
    "version": 3
   },
   "file_extension": ".py",
   "mimetype": "text/x-python",
   "name": "python",
   "nbconvert_exporter": "python",
   "pygments_lexer": "ipython3",
   "version": "3.12.0"
  }
 },
 "nbformat": 4,
 "nbformat_minor": 5
}
