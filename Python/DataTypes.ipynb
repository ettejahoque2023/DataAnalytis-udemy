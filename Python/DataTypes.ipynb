{
 "cells": [
  {
   "cell_type": "markdown",
   "id": "70843b80",
   "metadata": {},
   "source": [
    "What Are Data Types?\n",
    "\n",
    "Data types are a classification of data that tells the compiler or interpreter how the programmer intends to use the data. They determine the type of operation that can be performed on the data, the values that the data can take, and the amount of memory needed to store the data.\n",
    "\n",
    "Different data types, such as integer and floating point, require different amounts of memory. For example, you may have int (8 bit), float (16 bits), and so on. Each data type stores information in a specific way.\n",
    "\n",
    "Importance of Data Types in Programming\n",
    "Data types ensure that data is stored efficiently. They help in performing correct operations on data, and proper use of data types can prevent errors and bugs in the program. Memory management is also a key aspect."
   ]
  },
  {
   "cell_type": "markdown",
   "id": "8e8ab701",
   "metadata": {},
   "source": [
    "Integer Data Type Example"
   ]
  },
  {
   "cell_type": "code",
   "execution_count": 7,
   "id": "b17cfa97",
   "metadata": {},
   "outputs": [
    {
     "data": {
      "text/plain": [
       "int"
      ]
     },
     "execution_count": 7,
     "metadata": {},
     "output_type": "execute_result"
    }
   ],
   "source": [
    "age = 35\n",
    "type(age)"
   ]
  },
  {
   "cell_type": "markdown",
   "id": "3e1ef41a",
   "metadata": {},
   "source": [
    "Floating Point Data Type Example"
   ]
  },
  {
   "cell_type": "code",
   "execution_count": 8,
   "id": "9366dd95",
   "metadata": {},
   "outputs": [
    {
     "name": "stdout",
     "output_type": "stream",
     "text": [
      "5.11\n"
     ]
    },
    {
     "data": {
      "text/plain": [
       "float"
      ]
     },
     "execution_count": 8,
     "metadata": {},
     "output_type": "execute_result"
    }
   ],
   "source": [
    "height = 5.11\n",
    "print(height)\n",
    "type(height)"
   ]
  },
  {
   "cell_type": "markdown",
   "id": "2f12b69f",
   "metadata": {},
   "source": [
    "String Data Type Example"
   ]
  },
  {
   "cell_type": "code",
   "execution_count": 9,
   "id": "dfc07426",
   "metadata": {},
   "outputs": [
    {
     "name": "stdout",
     "output_type": "stream",
     "text": [
      "Krish\n",
      "<class 'str'>\n"
     ]
    }
   ],
   "source": [
    "name = \"Krish\"\n",
    "print(name)\n",
    "print(type(name))"
   ]
  },
  {
   "cell_type": "markdown",
   "id": "bc18ec45",
   "metadata": {},
   "source": [
    "Boolean Data Type Example"
   ]
  },
  {
   "cell_type": "code",
   "execution_count": 10,
   "id": "ee90f44d",
   "metadata": {},
   "outputs": [
    {
     "data": {
      "text/plain": [
       "bool"
      ]
     },
     "execution_count": 10,
     "metadata": {},
     "output_type": "execute_result"
    }
   ],
   "source": [
    "is_true = True\n",
    "type(is_true)\n"
   ]
  }
 ],
 "metadata": {
  "kernelspec": {
   "display_name": "Python 3",
   "language": "python",
   "name": "python3"
  },
  "language_info": {
   "codemirror_mode": {
    "name": "ipython",
    "version": 3
   },
   "file_extension": ".py",
   "mimetype": "text/x-python",
   "name": "python",
   "nbconvert_exporter": "python",
   "pygments_lexer": "ipython3",
   "version": "3.12.0"
  }
 },
 "nbformat": 4,
 "nbformat_minor": 5
}
